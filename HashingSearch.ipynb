{
  "nbformat": 4,
  "nbformat_minor": 0,
  "metadata": {
    "colab": {
      "name": "HashingSearch.ipynb",
      "provenance": [],
      "authorship_tag": "ABX9TyND/5BJ4vFqz8p8viSFKOyc",
      "include_colab_link": true
    },
    "kernelspec": {
      "name": "python3",
      "display_name": "Python 3"
    }
  },
  "cells": [
    {
      "cell_type": "markdown",
      "metadata": {
        "id": "view-in-github",
        "colab_type": "text"
      },
      "source": [
        "<a href=\"https://colab.research.google.com/github/GTchiang558/Algorithm/blob/master/HashingSearch.ipynb\" target=\"_parent\"><img src=\"https://colab.research.google.com/assets/colab-badge.svg\" alt=\"Open In Colab\"/></a>"
      ]
    },
    {
      "cell_type": "markdown",
      "metadata": {
        "id": "iQZAG9WgJJY3"
      },
      "source": [
        "線性探測法"
      ]
    },
    {
      "cell_type": "code",
      "metadata": {
        "id": "Kko8t98-BLZV",
        "outputId": "569d4f92-e396-4c9a-e203-9f83234a0eac",
        "colab": {
          "base_uri": "https://localhost:8080/",
          "height": 225
        }
      },
      "source": [
        "import random\n",
        "\n",
        "INDEXBOX = 10 #雜湊表最大元素\n",
        "MAXNUM = 7   #最大資料個數\n",
        "\n",
        "def print_data(data,max_number): #列印陣列副程式\n",
        "  print('\\t',end='')\n",
        "  for i in range(max_number):\n",
        "    print('[%2d]'%data[i],end='')\n",
        "  print()\n",
        "def create_table(num,index): #建立雜湊表副程式\n",
        "  tmp=num%INDEXBOX #雜湊函數=資料%INDEXBOX\n",
        "  while True:\n",
        "    if index[tmp]==-1: #如果資料對應位置是空的\n",
        "      index[tmp]=num  #則直接存入資料\n",
        "      break\n",
        "    else:\n",
        "      tmp=(tmp+1)%INDEXBOX #否則往後找位置存放\n",
        "# Main\n",
        "index=[None]*INDEXBOX\n",
        "data=[None]*MAXNUM\n",
        "\n",
        "print('原始陣列值：')\n",
        "for i in range(MAXNUM): #起始資料值\n",
        "  data[i]=random.randint(1,20)\n",
        "for i in range(INDEXBOX): #清除雜湊表\n",
        "  index[i]=-1\n",
        "print_data(data,MAXNUM)\n",
        "\n",
        "print('雜湊表內容：')\n",
        "for i in range(MAXNUM): #建立雜湊表\n",
        "  create_table(data[i],index)\n",
        "  print(' %2d =>' %data[i],end='') #列印單一元素的雜湊表位置\n",
        "  print_data(index,INDEXBOX)\n",
        "\n",
        "print('完成雜湊表：')\n",
        "print_data(index,INDEXBOX) #列印最後完成結果"
      ],
      "execution_count": 2,
      "outputs": [
        {
          "output_type": "stream",
          "text": [
            "原始陣列值：\n",
            "\t[10][ 7][ 2][ 1][12][16][15]\n",
            "雜湊表內容：\n",
            " 10 =>\t[10][-1][-1][-1][-1][-1][-1][-1][-1][-1]\n",
            "  7 =>\t[10][-1][-1][-1][-1][-1][-1][ 7][-1][-1]\n",
            "  2 =>\t[10][-1][ 2][-1][-1][-1][-1][ 7][-1][-1]\n",
            "  1 =>\t[10][ 1][ 2][-1][-1][-1][-1][ 7][-1][-1]\n",
            " 12 =>\t[10][ 1][ 2][12][-1][-1][-1][ 7][-1][-1]\n",
            " 16 =>\t[10][ 1][ 2][12][-1][-1][16][ 7][-1][-1]\n",
            " 15 =>\t[10][ 1][ 2][12][-1][15][16][ 7][-1][-1]\n",
            "完成雜湊表：\n",
            "\t[10][ 1][ 2][12][-1][15][16][ 7][-1][-1]\n"
          ],
          "name": "stdout"
        }
      ]
    },
    {
      "cell_type": "markdown",
      "metadata": {
        "id": "SlDGQVspJG0_"
      },
      "source": [
        "平方探測法"
      ]
    },
    {
      "cell_type": "code",
      "metadata": {
        "id": "w2Yeby1WJS7Y",
        "outputId": "0de12655-78a7-4640-d125-72571e71b5d2",
        "colab": {
          "base_uri": "https://localhost:8080/",
          "height": 243
        }
      },
      "source": [
        "INDEXBOX = 10 #雜湊表最大元素\n",
        "MAXNUM = 7   #最大資料個數\n",
        "\n",
        "def print_data(data,max_number): #列印陣列副程式\n",
        "  print('\\t',end='')\n",
        "  for i in range(max_number):\n",
        "    print('[%2d]'%data[i],end='')\n",
        "  print()\n",
        "def create_table(num,index): #建立雜湊表副程式\n",
        "  tmp=num%INDEXBOX #雜湊函數=資料%INDEXBOX\n",
        "  i=1\n",
        "  while True:\n",
        "    if index[tmp]==-1: #如果資料對應位置是空的\n",
        "      index[tmp]=num  #則直接存入資料\n",
        "      break\n",
        "    elif index[tmp]!=-1:\n",
        "      tmp=(tmp+(i**2))%INDEXBOX #否則讓資料+i的平方\n",
        "      i=i+1 #平方根加一\n",
        "# Main\n",
        "index=[None]*INDEXBOX\n",
        "data=[None]*MAXNUM\n",
        "\n",
        "data=[int(num) for num in input(\"請輸入七個整數數值：\").split()]#起始資料值\n",
        "print('原始陣列值：')\n",
        "for i in range(INDEXBOX): #清除雜湊表\n",
        "  index[i]=-1\n",
        "print_data(data,MAXNUM)\n",
        "\n",
        "print('雜湊表內容：')\n",
        "for i in range(MAXNUM): #建立雜湊表\n",
        "  create_table(data[i],index)\n",
        "  print(' %2d =>' %data[i],end='') #列印單一元素的雜湊表位置\n",
        "  print_data(index,INDEXBOX)\n",
        "\n",
        "print('完成雜湊表：')\n",
        "print_data(index,INDEXBOX) #列印最後完成結果"
      ],
      "execution_count": 9,
      "outputs": [
        {
          "output_type": "stream",
          "text": [
            "請輸入七個整數數值：10 1 11 21 22 12 3\n",
            "原始陣列值：\n",
            "\t[10][ 1][11][21][22][12][ 3]\n",
            "雜湊表內容：\n",
            " 10 =>\t[10][-1][-1][-1][-1][-1][-1][-1][-1][-1]\n",
            "  1 =>\t[10][ 1][-1][-1][-1][-1][-1][-1][-1][-1]\n",
            " 11 =>\t[10][ 1][11][-1][-1][-1][-1][-1][-1][-1]\n",
            " 21 =>\t[10][ 1][11][-1][-1][-1][21][-1][-1][-1]\n",
            " 22 =>\t[10][ 1][11][22][-1][-1][21][-1][-1][-1]\n",
            " 12 =>\t[10][ 1][11][22][-1][-1][21][12][-1][-1]\n",
            "  3 =>\t[10][ 1][11][22][ 3][-1][21][12][-1][-1]\n",
            "完成雜湊表：\n",
            "\t[10][ 1][11][22][ 3][-1][21][12][-1][-1]\n"
          ],
          "name": "stdout"
        }
      ]
    },
    {
      "cell_type": "markdown",
      "metadata": {
        "id": "Hl_zA76SWflc"
      },
      "source": [
        "再砸湊法"
      ]
    },
    {
      "cell_type": "code",
      "metadata": {
        "id": "sjcvIt2aWjaZ"
      },
      "source": [
        "INDEXBOX = 10 #雜湊表最大元素\n",
        "MAXNUM = 7   #最大資料個數\n",
        "\n",
        "def print_data(data,max_number): #列印陣列副程式\n",
        "  print('\\t',end='')\n",
        "  for i in range(max_number):\n",
        "    print('[%2d]'%data[i],end='')\n",
        "  print()\n",
        "def create_table(num,index): #建立雜湊表副程式\n",
        "  tmp=num%INDEXBOX #雜湊函數=資料%INDEXBOX\n",
        "  i=1\n",
        "  while True:\n",
        "    if index[tmp]==-1: #如果資料對應位置是空的\n",
        "      index[tmp]=num  #則直接存入資料\n",
        "      break\n",
        "    elif index[tmp]!=-1:\n",
        "      tmp=(tmp+(2*i))%INDEXBOX #否則讓資料+i的平方\n",
        "      i=i+1 #平方根加一\n",
        "# Main\n",
        "index=[None]*INDEXBOX\n",
        "data=[None]*MAXNUM\n",
        "\n",
        "data=[int(num) for num in input(\"請輸入七個整數數值：\").split()]#起始資料值\n",
        "print('原始陣列值：')\n",
        "for i in range(INDEXBOX): #清除雜湊表\n",
        "  index[i]=-1\n",
        "print_data(data,MAXNUM)\n",
        "\n",
        "print('雜湊表內容：')\n",
        "for i in range(MAXNUM): #建立雜湊表\n",
        "  create_table(data[i],index)\n",
        "  print(' %2d =>' %data[i],end='') #列印單一元素的雜湊表位置\n",
        "  print_data(index,INDEXBOX)\n",
        "\n",
        "print('完成雜湊表：')\n",
        "print_data(index,INDEXBOX) #列印最後完成結果"
      ],
      "execution_count": null,
      "outputs": []
    }
  ]
}
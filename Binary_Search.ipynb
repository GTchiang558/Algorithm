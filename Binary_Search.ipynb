{
  "nbformat": 4,
  "nbformat_minor": 0,
  "metadata": {
    "colab": {
      "name": "Binary_Search.ipynb",
      "provenance": [],
      "authorship_tag": "ABX9TyMiosGEaz7MEUHOd8CX6w0c",
      "include_colab_link": true
    },
    "kernelspec": {
      "name": "python3",
      "display_name": "Python 3"
    }
  },
  "cells": [
    {
      "cell_type": "markdown",
      "metadata": {
        "id": "view-in-github",
        "colab_type": "text"
      },
      "source": [
        "<a href=\"https://colab.research.google.com/github/GTchiang558/Algorithm/blob/master/Binary_Search.ipynb\" target=\"_parent\"><img src=\"https://colab.research.google.com/assets/colab-badge.svg\" alt=\"Open In Colab\"/></a>"
      ]
    },
    {
      "cell_type": "code",
      "metadata": {
        "id": "-5Ul6OYO8fPV",
        "outputId": "3c0cb91d-a39d-4d66-c097-0c1c0b2c0c90",
        "colab": {
          "base_uri": "https://localhost:8080/",
          "height": 35
        }
      },
      "source": [
        "def BinarySearch(arr,l,r,x):\n",
        "  if r >= l:\n",
        "    mid = l + (r - l) // 2\n",
        "    if arr[mid] == x:\n",
        "      return mid\n",
        "    elif arr[mid] > x:\n",
        "      return BinarySearch(arr,l,mid-1,x)\n",
        "    else:\n",
        "      return BinarySearch(arr,mid+1,r,x)\n",
        "  else:\n",
        "    return -1\n",
        "arr = [5,8,9,15,30]\n",
        "x = 8\n",
        "#Function call\n",
        "result = BinarySearch(arr,0,len(arr)-1,x)\n",
        "\n",
        "if result != -1:\n",
        "  print(\"元素在索引 %d \" % result)\n",
        "else:\n",
        "  print(\"陣列中找不到該元素\")"
      ],
      "execution_count": 16,
      "outputs": [
        {
          "output_type": "stream",
          "text": [
            "元素在索引 1 \n"
          ],
          "name": "stdout"
        }
      ]
    },
    {
      "cell_type": "code",
      "metadata": {
        "id": "_3E700ikAUYk",
        "outputId": "0717c070-5fb9-4040-db46-516450a41cd2",
        "colab": {
          "base_uri": "https://localhost:8080/",
          "height": 108
        }
      },
      "source": [
        "def Bubble_Sort(datas):\n",
        "    for i in range(1, len(datas)): # \n",
        "        for j in range(len(datas)-i):   # \n",
        "            if datas[j] > datas[j+1]:   # \n",
        "                datas[j], datas[j+1] = datas[j+1], datas[j]\n",
        "    return datas\n",
        "\n",
        "def BinarySearch(arr,l,r,x):\n",
        "  if r >= l:\n",
        "    mid = l + (r - l) // 2\n",
        "    if arr[mid] == x:\n",
        "      return mid\n",
        "    elif arr[mid] > x:\n",
        "      return BinarySearch(arr,l,mid-1,x)\n",
        "    else:\n",
        "      return BinarySearch(arr,mid+1,r,x)\n",
        "  else:\n",
        "    return -1\n",
        "arr = [int(num) for num in input(\"輸入五個數值：\").split()]\n",
        "print(arr)\n",
        "Bubble_Sort(arr)\n",
        "print(arr)\n",
        "x = int(input(\"輸入搜尋元素：\"))\n",
        "#Function call\n",
        "result = BinarySearch(arr,0,len(arr)-1,x)\n",
        "\n",
        "if result != -1:\n",
        "  print(\"元素在索引 %d \" % result)\n",
        "else:\n",
        "  print(\"陣列中找不到該元素\")"
      ],
      "execution_count": 18,
      "outputs": [
        {
          "output_type": "stream",
          "text": [
            "輸入五個數值：11 10 12 14 13\n",
            "[11, 10, 12, 14, 13]\n",
            "[10, 11, 12, 13, 14]\n",
            "輸入搜尋元素：11\n",
            "元素在索引 1 \n"
          ],
          "name": "stdout"
        }
      ]
    }
  ]
}
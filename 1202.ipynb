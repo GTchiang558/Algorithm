{
  "nbformat": 4,
  "nbformat_minor": 0,
  "metadata": {
    "colab": {
      "name": "1202.ipynb",
      "provenance": [],
      "authorship_tag": "ABX9TyOLWcqA2uQExMng+T3VOfOs",
      "include_colab_link": true
    },
    "kernelspec": {
      "name": "python3",
      "display_name": "Python 3"
    }
  },
  "cells": [
    {
      "cell_type": "markdown",
      "metadata": {
        "id": "view-in-github",
        "colab_type": "text"
      },
      "source": [
        "<a href=\"https://colab.research.google.com/github/GTchiang558/Algorithm/blob/master/1202.ipynb\" target=\"_parent\"><img src=\"https://colab.research.google.com/assets/colab-badge.svg\" alt=\"Open In Colab\"/></a>"
      ]
    },
    {
      "cell_type": "markdown",
      "metadata": {
        "id": "2ZDqy8ijUq9B"
      },
      "source": [
        "coin change 貪婪法"
      ]
    },
    {
      "cell_type": "code",
      "metadata": {
        "colab": {
          "base_uri": "https://localhost:8080/"
        },
        "id": "oergodvENS-f",
        "outputId": "e9fff5fb-5371-4f5b-d41a-96fb4843a065"
      },
      "source": [
        "#t = 面額\n",
        "t = [25,20,5,1]\n",
        "\n",
        "#n=多少錢\n",
        "\n",
        "def change(t,n):\n",
        "   n = int(input(\"找多少錢?\"))\n",
        "   a = 1\n",
        "   m = [0 for _ in range(len(t))]\n",
        "   for i,money in enumerate(t):\n",
        "     m[i] = n // money\n",
        "     n = n % money\n",
        "     print(\"step%d:\"% a)\n",
        "     print(t[i],'*',m[i])\n",
        "     a=a+1\n",
        "     if n == 0:\n",
        "       print('Done')\n",
        "       \n",
        "   \n",
        "\n",
        "     \n",
        "print(change(t,41))"
      ],
      "execution_count": null,
      "outputs": [
        {
          "output_type": "stream",
          "text": [
            "找多少錢?41\n",
            "step1:\n",
            "25 * 1\n",
            "step2:\n",
            "20 * 0\n",
            "step3:\n",
            "5 * 3\n",
            "step4:\n",
            "1 * 1\n",
            "Done\n",
            "None\n"
          ],
          "name": "stdout"
        }
      ]
    },
    {
      "cell_type": "markdown",
      "metadata": {
        "id": "p4z0owmSUxKf"
      },
      "source": [
        "coin change 動態規劃"
      ]
    },
    {
      "cell_type": "code",
      "metadata": {
        "colab": {
          "base_uri": "https://localhost:8080/"
        },
        "id": "ks1OxiCISbm5",
        "outputId": "0b284096-d320-45d6-8936-79917c413c20"
      },
      "source": [
        "def dpMakeChange(coinValueList,change,minCoins,coinsUsed):\n",
        "   for cents in range(change+1):\n",
        "      coinCount = cents\n",
        "      newCoin = 1\n",
        "      for j in [c for c in coinValueList if c <= cents]:\n",
        "            if minCoins[cents-j] + 1 < coinCount:\n",
        "               coinCount = minCoins[cents-j]+1\n",
        "               newCoin = j\n",
        "      minCoins[cents] = coinCount\n",
        "      coinsUsed[cents] = newCoin\n",
        "   return minCoins[change]\n",
        "\n",
        "def printCoins(coinsUsed,change):\n",
        "   coin = change\n",
        "   while coin > 0:\n",
        "      thisCoin = coinsUsed[coin]\n",
        "      print(thisCoin)\n",
        "      coin = coin - thisCoin\n",
        "\n",
        "def main():\n",
        "    amnt = int(input())\n",
        "    clist = [1,5,20,25]\n",
        "    coinsUsed = [0]*(amnt+1)\n",
        "    coinCount = [0]*(amnt+1)\n",
        "\n",
        "    print(\"Making change for\",amnt,\"requires\")\n",
        "    print(dpMakeChange(clist,amnt,coinCount,coinsUsed),\"coins\")\n",
        "    print(\"They are:\")\n",
        "    printCoins(coinsUsed,amnt)\n",
        "    #print(\"The used list is as follows:\")\n",
        "    #print(coinsUsed)\n",
        "\n",
        "main()\n"
      ],
      "execution_count": null,
      "outputs": [
        {
          "output_type": "stream",
          "text": [
            "41\n",
            "Making change for 41 requires\n",
            "3 coins\n",
            "They are:\n",
            "1\n",
            "20\n",
            "20\n"
          ],
          "name": "stdout"
        }
      ]
    },
    {
      "cell_type": "markdown",
      "metadata": {
        "id": "yFKdp3YsU4pZ"
      },
      "source": [
        "Knapsack 貪婪法"
      ]
    },
    {
      "cell_type": "code",
      "metadata": {
        "colab": {
          "base_uri": "https://localhost:8080/"
        },
        "id": "9zNRNvgZVFjj",
        "outputId": "f78e8e88-b5f1-4c13-8834-764abf449d6f"
      },
      "source": [
        "item = ['PS5','iPad pro 12','Macbook pro 15','HomePod','Mac mini']\n",
        "V = [17000,35000,60000,9000,20000] #價值\n",
        "W = [5,1,4,3,2] #重量\n",
        "capacity = 10\n",
        "class ItemValue: \n",
        "  def __init__(self, wt, val, ind):\n",
        "    self.wt = wt \n",
        "    self.val = val \n",
        "    self.ind = ind \n",
        "    self.cost = val // wt \n",
        "  \n",
        "  def __lt__(self, other): \n",
        "    return self.cost < other.cost \n",
        "\n",
        "def Knapsack(W,V,capacity):\n",
        "  iVal = [] \n",
        "  for i in range(len(W)): \n",
        "    iVal.append(ItemValue(W[i], V[i], i)) \n",
        "  # sorting items by value \n",
        "  iVal.sort(reverse=True) \n",
        "  \n",
        "  totalValue = 0\n",
        "  for i in iVal: \n",
        "     curWt = int(i.wt) \n",
        "     curVal = int(i.val) \n",
        "     if capacity - curWt >= 0: \n",
        "       capacity -= curWt \n",
        "       totalValue += curVal \n",
        "     else: \n",
        "       fraction = capacity / curWt \n",
        "       totalValue += curVal * fraction \n",
        "       capacity = int(capacity - (curWt * fraction)) \n",
        "       break\n",
        "  return totalValue \n",
        "\n",
        "maxValue = Knapsack(W, V, capacity) \n",
        "print(\"Maximum value in Knapsack =\", maxValue) "
      ],
      "execution_count": null,
      "outputs": [
        {
          "output_type": "stream",
          "text": [
            "Maximum value in Knapsack = 125200.0\n"
          ],
          "name": "stdout"
        }
      ]
    },
    {
      "cell_type": "markdown",
      "metadata": {
        "id": "k6EWQ43NkYoK"
      },
      "source": [
        "Knapsack 動態規劃"
      ]
    },
    {
      "cell_type": "code",
      "metadata": {
        "id": "LjtvTlQ-khJH",
        "colab": {
          "base_uri": "https://localhost:8080/"
        },
        "outputId": "1ec37ad2-418d-4c56-a2b5-3e86194e3fa3"
      },
      "source": [
        "item = ['PS5','iPad pro 12','Macbook pro 15','HomePod','Mac mini']\r\n",
        "V = [17000,35000,60000,9000,20000] #價值\r\n",
        "W = [5,1,4,3,2] #重量\r\n",
        "capacity = 10\r\n",
        "import numpy as np\r\n",
        "\r\n",
        "# n: number of objects\r\n",
        "# W: total weight\r\n",
        "# w: list of weight of each object\r\n",
        "# v: list of value of each object\r\n",
        "# return: maximum value of 0-1 Knapsack Problem\r\n",
        "def Knapsack_01(n, W, w, v):\r\n",
        "    # create (n+1)*(W+1) table initialized with all 0\r\n",
        "    dp = np.array([[0]*(W+1)]*(n+1))\r\n",
        "\r\n",
        "    # using DP to solve 0-1 Knapsack Problem\r\n",
        "    for i in range(1, n+1):\r\n",
        "        for j in range(1, W+1):\r\n",
        "            # if ith item's weight is bigger than j, then do nothing\r\n",
        "            if w[i-1] > j:\r\n",
        "                dp[i,j] = dp[i-1, j]\r\n",
        "            else: # compare the two situations: putt ith item in or not\r\n",
        "                dp[i,j] = max(dp[i-1, j], v[i-1] + dp[i-1, j-w[i-1]])\r\n",
        "\r\n",
        "    return dp[n][W] # maximum value of 0-1 Knapsack Problem\r\n",
        "\r\n",
        "# using DP to solve subset sum problem\r\n",
        "def isSubsetSum(v, n, max_value):\r\n",
        "    # The value of subset[i, j] will be\r\n",
        "    # true if there is a subset of\r\n",
        "    # set[0..j-1] with sum equal to i\r\n",
        "    subset = np.array([[True]*(max_value+1)]*(n+1))\r\n",
        "\r\n",
        "    # If sum is 0, then answer is true\r\n",
        "    for i in range(0, n+1):\r\n",
        "        subset[i, 0] = True\r\n",
        "\r\n",
        "    # If sum is not 0 and set is empty,\r\n",
        "    # then answer is false\r\n",
        "    for i in range(1, max_value+1):\r\n",
        "        subset[0, i] = False\r\n",
        "\r\n",
        "    # Fill the subset table in bottom-up manner\r\n",
        "    for i in range(1, n+1):\r\n",
        "        for j in range(1, max_value+1):\r\n",
        "            if j < v[i-1]:\r\n",
        "                subset[i, j] = subset[i-1, j]\r\n",
        "            else:\r\n",
        "                subset[i, j] = subset[i-1, j] or subset[i-1, j-v[i-1]]\r\n",
        "\r\n",
        "    if subset[n, max_value]:\r\n",
        "        sol = []\r\n",
        "        # using backtracing to find the solution\r\n",
        "        i = n\r\n",
        "        while i >= 0:\r\n",
        "            if subset[i, max_value] and not subset[i-1, max_value]:\r\n",
        "                sol.append(v[i-1])\r\n",
        "                max_value -= v[i-1]\r\n",
        "            if max_value == 0:\r\n",
        "                break\r\n",
        "            i -= 1\r\n",
        "        return sol\r\n",
        "    else:\r\n",
        "        return []\r\n",
        "\r\n",
        "def main():\r\n",
        "    # test\r\n",
        "    W = 20\r\n",
        "    w = (1, 2, 5, 6, 7, 9)\r\n",
        "    v = (1, 6, 18, 22, 28, 36)\r\n",
        "    n = len(w)\r\n",
        "\r\n",
        "    max_value = Knapsack_01(n, W, w, v)\r\n",
        "    sol = isSubsetSum(v, n, max_value)\r\n",
        "\r\n",
        "    items = [v.index(i) for i in sol]\r\n",
        "\r\n",
        "    print('Max value : %s'%max_value)\r\n",
        "    print('Chosen items: %s'%items)\r\n",
        "\r\n",
        "main()"
      ],
      "execution_count": 4,
      "outputs": [
        {
          "output_type": "stream",
          "text": [
            "Max value : 76\n",
            "Chosen items: [5, 3, 2]\n"
          ],
          "name": "stdout"
        }
      ]
    }
  ]
}
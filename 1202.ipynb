{
  "nbformat": 4,
  "nbformat_minor": 0,
  "metadata": {
    "colab": {
      "name": "1202.ipynb",
      "provenance": [],
      "authorship_tag": "ABX9TyOyy5YWlB+IVuXKd4KyVFxR",
      "include_colab_link": true
    },
    "kernelspec": {
      "name": "python3",
      "display_name": "Python 3"
    }
  },
  "cells": [
    {
      "cell_type": "markdown",
      "metadata": {
        "id": "view-in-github",
        "colab_type": "text"
      },
      "source": [
        "<a href=\"https://colab.research.google.com/github/GTchiang558/Algorithm/blob/master/1202.ipynb\" target=\"_parent\"><img src=\"https://colab.research.google.com/assets/colab-badge.svg\" alt=\"Open In Colab\"/></a>"
      ]
    },
    {
      "cell_type": "markdown",
      "metadata": {
        "id": "2ZDqy8ijUq9B"
      },
      "source": [
        "coin change 貪婪法"
      ]
    },
    {
      "cell_type": "code",
      "metadata": {
        "colab": {
          "base_uri": "https://localhost:8080/"
        },
        "id": "oergodvENS-f",
        "outputId": "e9fff5fb-5371-4f5b-d41a-96fb4843a065"
      },
      "source": [
        "#t = 面額\n",
        "t = [25,20,5,1]\n",
        "\n",
        "#n=多少錢\n",
        "\n",
        "def change(t,n):\n",
        "   n = int(input(\"找多少錢?\"))\n",
        "   a = 1\n",
        "   m = [0 for _ in range(len(t))]\n",
        "   for i,money in enumerate(t):\n",
        "     m[i] = n // money\n",
        "     n = n % money\n",
        "     print(\"step%d:\"% a)\n",
        "     print(t[i],'*',m[i])\n",
        "     a=a+1\n",
        "     if n == 0:\n",
        "       print('Done')\n",
        "       \n",
        "   \n",
        "\n",
        "     \n",
        "print(change(t,41))"
      ],
      "execution_count": 46,
      "outputs": [
        {
          "output_type": "stream",
          "text": [
            "找多少錢?41\n",
            "step1:\n",
            "25 * 1\n",
            "step2:\n",
            "20 * 0\n",
            "step3:\n",
            "5 * 3\n",
            "step4:\n",
            "1 * 1\n",
            "Done\n",
            "None\n"
          ],
          "name": "stdout"
        }
      ]
    },
    {
      "cell_type": "markdown",
      "metadata": {
        "id": "p4z0owmSUxKf"
      },
      "source": [
        "coin change 動態規劃"
      ]
    },
    {
      "cell_type": "code",
      "metadata": {
        "colab": {
          "base_uri": "https://localhost:8080/"
        },
        "id": "ks1OxiCISbm5",
        "outputId": "0b284096-d320-45d6-8936-79917c413c20"
      },
      "source": [
        "def dpMakeChange(coinValueList,change,minCoins,coinsUsed):\n",
        "   for cents in range(change+1):\n",
        "      coinCount = cents\n",
        "      newCoin = 1\n",
        "      for j in [c for c in coinValueList if c <= cents]:\n",
        "            if minCoins[cents-j] + 1 < coinCount:\n",
        "               coinCount = minCoins[cents-j]+1\n",
        "               newCoin = j\n",
        "      minCoins[cents] = coinCount\n",
        "      coinsUsed[cents] = newCoin\n",
        "   return minCoins[change]\n",
        "\n",
        "def printCoins(coinsUsed,change):\n",
        "   coin = change\n",
        "   while coin > 0:\n",
        "      thisCoin = coinsUsed[coin]\n",
        "      print(thisCoin)\n",
        "      coin = coin - thisCoin\n",
        "\n",
        "def main():\n",
        "    amnt = int(input())\n",
        "    clist = [1,5,20,25]\n",
        "    coinsUsed = [0]*(amnt+1)\n",
        "    coinCount = [0]*(amnt+1)\n",
        "\n",
        "    print(\"Making change for\",amnt,\"requires\")\n",
        "    print(dpMakeChange(clist,amnt,coinCount,coinsUsed),\"coins\")\n",
        "    print(\"They are:\")\n",
        "    printCoins(coinsUsed,amnt)\n",
        "    #print(\"The used list is as follows:\")\n",
        "    #print(coinsUsed)\n",
        "\n",
        "main()\n"
      ],
      "execution_count": 59,
      "outputs": [
        {
          "output_type": "stream",
          "text": [
            "41\n",
            "Making change for 41 requires\n",
            "3 coins\n",
            "They are:\n",
            "1\n",
            "20\n",
            "20\n"
          ],
          "name": "stdout"
        }
      ]
    },
    {
      "cell_type": "markdown",
      "metadata": {
        "id": "yFKdp3YsU4pZ"
      },
      "source": [
        "Knapsack 貪婪法"
      ]
    },
    {
      "cell_type": "code",
      "metadata": {
        "colab": {
          "base_uri": "https://localhost:8080/"
        },
        "id": "9zNRNvgZVFjj",
        "outputId": "f78e8e88-b5f1-4c13-8834-764abf449d6f"
      },
      "source": [
        "item = ['PS5','iPad pro 12','Macbook pro 15','HomePod','Mac mini']\n",
        "V = [17000,35000,60000,9000,20000] #價值\n",
        "W = [5,1,4,3,2] #重量\n",
        "capacity = 10\n",
        "class ItemValue: \n",
        "  def __init__(self, wt, val, ind):\n",
        "    self.wt = wt \n",
        "    self.val = val \n",
        "    self.ind = ind \n",
        "    self.cost = val // wt \n",
        "  \n",
        "  def __lt__(self, other): \n",
        "    return self.cost < other.cost \n",
        "\n",
        "def Knapsack(W,V,capacity):\n",
        "  iVal = [] \n",
        "  for i in range(len(W)): \n",
        "    iVal.append(ItemValue(W[i], V[i], i)) \n",
        "  # sorting items by value \n",
        "  iVal.sort(reverse=True) \n",
        "  \n",
        "  totalValue = 0\n",
        "  for i in iVal: \n",
        "     curWt = int(i.wt) \n",
        "     curVal = int(i.val) \n",
        "     if capacity - curWt >= 0: \n",
        "       capacity -= curWt \n",
        "       totalValue += curVal \n",
        "     else: \n",
        "       fraction = capacity / curWt \n",
        "       totalValue += curVal * fraction \n",
        "       capacity = int(capacity - (curWt * fraction)) \n",
        "       break\n",
        "  return totalValue \n",
        "\n",
        "maxValue = Knapsack(W, V, capacity) \n",
        "print(\"Maximum value in Knapsack =\", maxValue) "
      ],
      "execution_count": 65,
      "outputs": [
        {
          "output_type": "stream",
          "text": [
            "Maximum value in Knapsack = 125200.0\n"
          ],
          "name": "stdout"
        }
      ]
    }
  ]
}
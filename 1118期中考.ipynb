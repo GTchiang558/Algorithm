{
  "nbformat": 4,
  "nbformat_minor": 0,
  "metadata": {
    "colab": {
      "name": "1118期中考.ipynb",
      "provenance": [],
      "authorship_tag": "ABX9TyN523hbsipmrWDK/38KDcSk",
      "include_colab_link": true
    },
    "kernelspec": {
      "name": "python3",
      "display_name": "Python 3"
    }
  },
  "cells": [
    {
      "cell_type": "markdown",
      "metadata": {
        "id": "view-in-github",
        "colab_type": "text"
      },
      "source": [
        "<a href=\"https://colab.research.google.com/github/GTchiang558/Algorithm/blob/master/1118%E6%9C%9F%E4%B8%AD%E8%80%83.ipynb\" target=\"_parent\"><img src=\"https://colab.research.google.com/assets/colab-badge.svg\" alt=\"Open In Colab\"/></a>"
      ]
    },
    {
      "cell_type": "markdown",
      "metadata": {
        "id": "Oieyi97jtEOd"
      },
      "source": [
        "Selctionsort (從大到小排)"
      ]
    },
    {
      "cell_type": "code",
      "metadata": {
        "colab": {
          "base_uri": "https://localhost:8080/"
        },
        "id": "mnFTicOhtGeW",
        "outputId": "525b4fc7-d94a-4ffe-fe9b-ab3c2e613e68"
      },
      "source": [
        "import random\n",
        "def random_int_list(start, stop, length): # 建立隨機陣列\n",
        "  start, stop = (int(start), int(stop)) if start <= stop else (int(stop), int(start)) # 定義隨機選取範圍的最大最小值\n",
        "  length = int(abs(length)) if length else 0 # 定義數列的長度\n",
        "  random_list = []\n",
        "  for i in range(length):\n",
        "    random_list.append(random.randint(start, stop)) # 將選取出來的數逐一加入陣列裡\n",
        "  return random_list\n",
        "\n",
        "def Selction_Sort(datas):\n",
        "    b = 1\n",
        "    for i in range(len(datas)-1):\n",
        "        max = i # 第一次選從第一個數開始,第二次從第二個數開始\n",
        "        for j in range(i+1, len(datas)):    # 用記錄的max數與其他的比較\n",
        "            if datas[max] < datas[j]:\n",
        "                max = j\n",
        "\n",
        "        datas[i], datas[max] = datas[max], datas[i]\n",
        "\n",
        "        print(\"第%d次排序：\"% b,datas)\n",
        "        print('---'*15)\n",
        "        b = b + 1\n",
        "    return datas\n",
        "if __name__ == '__main__':\n",
        "  A = random_int_list(1,100,8)\n",
        "  print(\"原始數列：\",A)\n",
        "  A = Selction_Sort(A)\n"
      ],
      "execution_count": 30,
      "outputs": [
        {
          "output_type": "stream",
          "text": [
            "原始數列： [63, 50, 51, 97, 37, 98, 16, 22]\n",
            "第1次排序： [98, 50, 51, 97, 37, 63, 16, 22]\n",
            "---------------------------------------------\n",
            "第2次排序： [98, 97, 51, 50, 37, 63, 16, 22]\n",
            "---------------------------------------------\n",
            "第3次排序： [98, 97, 63, 50, 37, 51, 16, 22]\n",
            "---------------------------------------------\n",
            "第4次排序： [98, 97, 63, 51, 37, 50, 16, 22]\n",
            "---------------------------------------------\n",
            "第5次排序： [98, 97, 63, 51, 50, 37, 16, 22]\n",
            "---------------------------------------------\n",
            "第6次排序： [98, 97, 63, 51, 50, 37, 16, 22]\n",
            "---------------------------------------------\n",
            "第7次排序： [98, 97, 63, 51, 50, 37, 22, 16]\n",
            "---------------------------------------------\n"
          ],
          "name": "stdout"
        }
      ]
    },
    {
      "cell_type": "markdown",
      "metadata": {
        "id": "r1OPeco22-tS"
      },
      "source": [
        "Insertionsort (從小到大排)"
      ]
    },
    {
      "cell_type": "code",
      "metadata": {
        "colab": {
          "base_uri": "https://localhost:8080/"
        },
        "id": "061llOV43Dki",
        "outputId": "5d20c9ec-2878-4219-cbf1-576551f0c983"
      },
      "source": [
        "def Insertion_Sort(datas):\n",
        "    for i in range(1, len(datas)):  # \n",
        "        for j in range(i):\n",
        "            current = datas[i]\n",
        "            if current < datas[j]:\n",
        "                for k in range(i,j):\n",
        "                  print(datas)\n",
        "    return datas\n",
        "\n",
        "\n",
        "def insertionSort(arr):\n",
        "    h = 0\n",
        "    print('原始數列：',arr)\n",
        "    for i in range(len(arr)):\n",
        "        preIndex = i-1  # 從第一個值開始取\n",
        "        current = arr[i]  # 先將要比較的值暫存起來(以下稱它暫存值)\n",
        "        while preIndex >= 0 and arr[preIndex] > current:  \n",
        "            arr[preIndex+1] = arr[preIndex]   # 將暫存值逐一和前面的值做比較，如果小於前面的值則將前面的值往後放\n",
        "            preIndex-=1\n",
        "        arr[preIndex+1] = current # 比較完後，將暫存值插入到適合的位置\n",
        "        print(\"第%d次排序：\"%h,arr)\n",
        "        h = h+1\n",
        "    return arr\n",
        "\n",
        "if __name__ == '__main__':\n",
        "    import random\n",
        "    def random_int_list(start, stop, length): # 建立隨機陣列\n",
        "      start, stop = (int(start), int(stop)) if start <= stop else (int(stop), int(start)) # 定義隨機選取範圍的最大最小值\n",
        "      length = int(abs(length)) if length else 0 # 定義數列的長度\n",
        "      random_list = []\n",
        "      for i in range(length):\n",
        "        random_list.append(random.randint(start, stop)) # 將選取出來的數逐一加入陣列裡\n",
        "      return random_list\n",
        "    a = random_int_list(1,100,8)\n",
        "    b = a.copy()\n",
        "\n",
        "    arr = insertionSort(a)\n",
        "    print('---'*15)\n",
        "    Insertion_Sort(b)"
      ],
      "execution_count": 29,
      "outputs": [
        {
          "output_type": "stream",
          "text": [
            "原始數列： [47, 17, 63, 48, 43, 8, 99, 91]\n",
            "第0次排序： [47, 17, 63, 48, 43, 8, 99, 91]\n",
            "第1次排序： [17, 47, 63, 48, 43, 8, 99, 91]\n",
            "第2次排序： [17, 47, 63, 48, 43, 8, 99, 91]\n",
            "第3次排序： [17, 47, 48, 63, 43, 8, 99, 91]\n",
            "第4次排序： [17, 43, 47, 48, 63, 8, 99, 91]\n",
            "第5次排序： [8, 17, 43, 47, 48, 63, 99, 91]\n",
            "第6次排序： [8, 17, 43, 47, 48, 63, 99, 91]\n",
            "第7次排序： [8, 17, 43, 47, 48, 63, 91, 99]\n",
            "---------------------------------------------\n"
          ],
          "name": "stdout"
        }
      ]
    }
  ]
}
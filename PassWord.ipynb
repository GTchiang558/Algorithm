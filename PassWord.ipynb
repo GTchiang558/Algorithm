{
  "nbformat": 4,
  "nbformat_minor": 0,
  "metadata": {
    "colab": {
      "name": "PassWord.ipynb",
      "provenance": [],
      "authorship_tag": "ABX9TyP3a7Yo+YmTaaDuTjV4vmAc",
      "include_colab_link": true
    },
    "kernelspec": {
      "name": "python3",
      "display_name": "Python 3"
    }
  },
  "cells": [
    {
      "cell_type": "markdown",
      "metadata": {
        "id": "view-in-github",
        "colab_type": "text"
      },
      "source": [
        "<a href=\"https://colab.research.google.com/github/GTchiang558/Algorithm/blob/master/PassWord.ipynb\" target=\"_parent\"><img src=\"https://colab.research.google.com/assets/colab-badge.svg\" alt=\"Open In Colab\"/></a>"
      ]
    },
    {
      "cell_type": "code",
      "metadata": {
        "id": "P-4nAfyjQMLZ",
        "outputId": "c1c47226-63fc-449e-ce70-5dc480dbd6f1",
        "colab": {
          "base_uri": "https://localhost:8080/"
        }
      },
      "source": [
        "import random\n",
        "ansMax=100\n",
        "ansMin=0\n",
        "guessCount=0\n",
        "guessAnswer=random.randint(1,99)\n",
        "guessNum=0\n",
        "while guessNum != guessAnswer:\n",
        "    #print('Guess Count=',guessCount)\n",
        "    print(ansMin, '< ? <',ansMax)\n",
        "    guessNum=input()\n",
        "    try:\n",
        "        guessNum = int(guessNum)  #把字串轉換成整數\n",
        "    except ValueError:  #轉換失敗便要求重新輸入數字\n",
        "        print('格式錯誤，請輸入數字\\n')\n",
        "        continue\n",
        "    guessCount +=1\n",
        "    if guessNum > ansMin and guessNum < ansMax:\n",
        "        #print('guess count =',guessCount)\n",
        "        #if guessNum == guessAnswer:\n",
        "        #    print('bingo answer is',guessAnswer)\n",
        "        #    break\n",
        "        if guessNum > guessAnswer:\n",
        "            print('再小一點')\n",
        "            print('已猜次數',guessCount)\n",
        "            ansMax = guessNum\n",
        "        elif guessNum < guessAnswer:\n",
        "            print('再大一點')\n",
        "            print('已猜次數',guessCount)\n",
        "            ansMin = guessNum\n",
        "        else:\n",
        "            print('賓果猜對了')\n",
        "            print('總共次數',guessCount)\n",
        "    else:\n",
        "        print('超出範圍')"
      ],
      "execution_count": 5,
      "outputs": [
        {
          "output_type": "stream",
          "text": [
            "0 < ? < 100\n",
            "a\n",
            "格式錯誤，請輸入數字\n",
            "\n",
            "0 < ? < 100\n",
            "50\n",
            "再大一點\n",
            "已猜次數 1\n",
            "50 < ? < 100\n",
            "60\n",
            "再大一點\n",
            "已猜次數 2\n",
            "60 < ? < 100\n",
            "80\n",
            "再小一點\n",
            "已猜次數 3\n",
            "60 < ? < 80\n",
            "70\n",
            "再大一點\n",
            "已猜次數 4\n",
            "70 < ? < 80\n",
            "81\n",
            "超出範圍\n",
            "70 < ? < 80\n",
            "75\n",
            "再大一點\n",
            "已猜次數 6\n",
            "75 < ? < 80\n",
            "77\n",
            "賓果猜對了\n",
            "總共次數 7\n"
          ],
          "name": "stdout"
        }
      ]
    }
  ]
}
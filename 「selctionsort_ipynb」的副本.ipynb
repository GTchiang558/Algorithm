{
  "nbformat": 4,
  "nbformat_minor": 0,
  "metadata": {
    "colab": {
      "name": "「selctionsort.ipynb」的副本",
      "provenance": [],
      "collapsed_sections": [],
      "include_colab_link": true
    },
    "kernelspec": {
      "name": "python3",
      "display_name": "Python 3"
    }
  },
  "cells": [
    {
      "cell_type": "markdown",
      "metadata": {
        "id": "view-in-github",
        "colab_type": "text"
      },
      "source": [
        "<a href=\"https://colab.research.google.com/github/GTchiang558/Algorithm/blob/master/%E3%80%8Cselctionsort_ipynb%E3%80%8D%E7%9A%84%E5%89%AF%E6%9C%AC.ipynb\" target=\"_parent\"><img src=\"https://colab.research.google.com/assets/colab-badge.svg\" alt=\"Open In Colab\"/></a>"
      ]
    },
    {
      "cell_type": "markdown",
      "metadata": {
        "id": "W-Z0kMaDLJOp",
        "colab_type": "text"
      },
      "source": [
        "Selection sort (選擇排序)"
      ]
    },
    {
      "cell_type": "code",
      "metadata": {
        "id": "8tM3sv79HQ_V",
        "colab_type": "code",
        "colab": {
          "base_uri": "https://localhost:8080/",
          "height": 527
        },
        "outputId": "60784943-e59c-470e-a564-98ddd63b56eb"
      },
      "source": [
        "def Selction_Sort(datas):\n",
        "    for i in range(len(datas)-1):\n",
        "        min = i # 第一次選從第一個數開始,第二次從第二個數開始\n",
        "        for j in range(i+1, len(datas)):    # 用記錄的max數與其他的比較\n",
        "            if datas[j] < datas[min]:\n",
        "                min = j\n",
        "\n",
        "        datas[i], datas[min] = datas[min], datas[i]\n",
        "\n",
        "        print(datas)\n",
        "        print('---'*17)\n",
        "    return datas\n",
        "\n",
        "\n",
        "if __name__ == '__main__':\n",
        "    import random\n",
        "    a = list(range(15))\n",
        "    random.shuffle(a)\n",
        "    print(a)\n",
        "    a = Selction_Sort(a)\n",
        "    print(a)"
      ],
      "execution_count": null,
      "outputs": [
        {
          "output_type": "stream",
          "text": [
            "[5, 4, 8, 10, 14, 3, 12, 11, 6, 9, 0, 13, 7, 1, 2]\n",
            "[0, 4, 8, 10, 14, 3, 12, 11, 6, 9, 5, 13, 7, 1, 2]\n",
            "---------------------------------------------------\n",
            "[0, 1, 8, 10, 14, 3, 12, 11, 6, 9, 5, 13, 7, 4, 2]\n",
            "---------------------------------------------------\n",
            "[0, 1, 2, 10, 14, 3, 12, 11, 6, 9, 5, 13, 7, 4, 8]\n",
            "---------------------------------------------------\n",
            "[0, 1, 2, 3, 14, 10, 12, 11, 6, 9, 5, 13, 7, 4, 8]\n",
            "---------------------------------------------------\n",
            "[0, 1, 2, 3, 4, 10, 12, 11, 6, 9, 5, 13, 7, 14, 8]\n",
            "---------------------------------------------------\n",
            "[0, 1, 2, 3, 4, 5, 12, 11, 6, 9, 10, 13, 7, 14, 8]\n",
            "---------------------------------------------------\n",
            "[0, 1, 2, 3, 4, 5, 6, 11, 12, 9, 10, 13, 7, 14, 8]\n",
            "---------------------------------------------------\n",
            "[0, 1, 2, 3, 4, 5, 6, 7, 12, 9, 10, 13, 11, 14, 8]\n",
            "---------------------------------------------------\n",
            "[0, 1, 2, 3, 4, 5, 6, 7, 8, 9, 10, 13, 11, 14, 12]\n",
            "---------------------------------------------------\n",
            "[0, 1, 2, 3, 4, 5, 6, 7, 8, 9, 10, 13, 11, 14, 12]\n",
            "---------------------------------------------------\n",
            "[0, 1, 2, 3, 4, 5, 6, 7, 8, 9, 10, 13, 11, 14, 12]\n",
            "---------------------------------------------------\n",
            "[0, 1, 2, 3, 4, 5, 6, 7, 8, 9, 10, 11, 13, 14, 12]\n",
            "---------------------------------------------------\n",
            "[0, 1, 2, 3, 4, 5, 6, 7, 8, 9, 10, 11, 12, 14, 13]\n",
            "---------------------------------------------------\n",
            "[0, 1, 2, 3, 4, 5, 6, 7, 8, 9, 10, 11, 12, 13, 14]\n",
            "---------------------------------------------------\n",
            "[0, 1, 2, 3, 4, 5, 6, 7, 8, 9, 10, 11, 12, 13, 14]\n"
          ],
          "name": "stdout"
        }
      ]
    },
    {
      "cell_type": "markdown",
      "metadata": {
        "id": "MiWPt8bALDN5",
        "colab_type": "text"
      },
      "source": [
        "請加入註解\n"
      ]
    }
  ]
}
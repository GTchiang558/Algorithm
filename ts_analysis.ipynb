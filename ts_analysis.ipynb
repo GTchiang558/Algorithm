{
  "nbformat": 4,
  "nbformat_minor": 0,
  "metadata": {
    "colab": {
      "name": "ts_analysis",
      "provenance": [],
      "authorship_tag": "ABX9TyNMUChB0AMRzCW1Kn4c1Ydi",
      "include_colab_link": true
    },
    "kernelspec": {
      "name": "python3",
      "display_name": "Python 3"
    }
  },
  "cells": [
    {
      "cell_type": "markdown",
      "metadata": {
        "id": "view-in-github",
        "colab_type": "text"
      },
      "source": [
        "<a href=\"https://colab.research.google.com/github/GTchiang558/Algorithm/blob/master/ts_analysis.ipynb\" target=\"_parent\"><img src=\"https://colab.research.google.com/assets/colab-badge.svg\" alt=\"Open In Colab\"/></a>"
      ]
    },
    {
      "cell_type": "markdown",
      "metadata": {
        "id": "B6f_-brNFueJ"
      },
      "source": [
        "時間換空間 攝氏轉華氏"
      ]
    },
    {
      "cell_type": "code",
      "metadata": {
        "id": "cuPcThp584kL",
        "outputId": "8647b9c7-5d47-4684-ac77-5a55d8952f8e",
        "colab": {
          "base_uri": "https://localhost:8080/"
        }
      },
      "source": [
        "degree_c = int(input(\"請輸入攝氏溫度:\"))\n",
        "degree_f = degree_c * 1.8 +32 \n",
        "print (\"攝氏 %d 度等於華氏 %d 度\" % (degree_c,degree_f))"
      ],
      "execution_count": 4,
      "outputs": [
        {
          "output_type": "stream",
          "text": [
            "請輸入攝氏溫度:2\n",
            "攝氏 2 度等於華氏 35 度\n"
          ],
          "name": "stdout"
        }
      ]
    },
    {
      "cell_type": "markdown",
      "metadata": {
        "id": "J6h1j1SUCVi8"
      },
      "source": [
        "空間換時間 攝氏轉華氏"
      ]
    },
    {
      "cell_type": "code",
      "metadata": {
        "id": "FHfLzp0C9G25"
      },
      "source": [
        "list_f=[32,33.8,35.6,]"
      ],
      "execution_count": null,
      "outputs": []
    }
  ]
}
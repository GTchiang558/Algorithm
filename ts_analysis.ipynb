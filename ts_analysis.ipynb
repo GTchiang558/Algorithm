{
  "nbformat": 4,
  "nbformat_minor": 0,
  "metadata": {
    "colab": {
      "name": "「ts_analysis」的副本",
      "provenance": [],
      "authorship_tag": "ABX9TyMzMVgmbrClVgAiKn58/elY",
      "include_colab_link": true
    },
    "kernelspec": {
      "name": "python3",
      "display_name": "Python 3"
    }
  },
  "cells": [
    {
      "cell_type": "markdown",
      "metadata": {
        "id": "view-in-github",
        "colab_type": "text"
      },
      "source": [
        "<a href=\"https://colab.research.google.com/github/GTchiang558/Algorithm/blob/master/ts_analysis.ipynb\" target=\"_parent\"><img src=\"https://colab.research.google.com/assets/colab-badge.svg\" alt=\"Open In Colab\"/></a>"
      ]
    },
    {
      "cell_type": "markdown",
      "metadata": {
        "id": "B6f_-brNFueJ"
      },
      "source": [
        "時間換空間 攝氏轉華氏"
      ]
    },
    {
      "cell_type": "code",
      "metadata": {
        "id": "cuPcThp584kL",
        "outputId": "7b759bda-b60f-46f2-dd2c-a431839c5a92",
        "colab": {
          "base_uri": "https://localhost:8080/",
          "height": 50
        }
      },
      "source": [
        "degree_c = float(input(\"請輸入攝氏溫度:\"))\n",
        "degree_f = degree_c * 1.8 +32 \n",
        "print (\"攝氏 %f 度等於華氏 %f 度\" % (degree_c,degree_f))"
      ],
      "execution_count": null,
      "outputs": [
        {
          "output_type": "stream",
          "text": [
            "請輸入攝氏溫度:39.5\n",
            "攝氏 39.500000 度等於華氏 103.100000 度\n"
          ],
          "name": "stdout"
        }
      ]
    },
    {
      "cell_type": "markdown",
      "metadata": {
        "id": "J6h1j1SUCVi8"
      },
      "source": [
        "空間換時間 攝氏轉華氏"
      ]
    },
    {
      "cell_type": "code",
      "metadata": {
        "id": "FHfLzp0C9G25",
        "outputId": "c020aee4-5357-4c15-bc08-fdbd4e0e0e81",
        "colab": {
          "base_uri": "https://localhost:8080/",
          "height": 50
        }
      },
      "source": [
        "List_f = [32.0, 33.8, 35.6, 37.4, 39.2, 41.0, 42.8, 44.6, 46.4, 48.2, 50.0, 51.8, 53.6, 55.400000000000006, 57.2, 59.0, 60.8, 62.6, 64.4, 66.2, 68.0, 69.80000000000001, 71.6, 73.4, 75.2, 77.0, 78.80000000000001, 80.6, 82.4, 84.2, 86.0, 87.80000000000001, 89.6, 91.4, 93.2, 95.0, 96.8, 98.60000000000001, 100.4, 102.2, 104.0, 105.8, 107.60000000000001, 109.4, 111.2, 113.0, 114.8, 116.60000000000001, 118.4, 120.2, 122.0, 123.8, 125.60000000000001, 127.4, 129.2, 131.0, 132.8, 134.60000000000002, 136.4, 138.2, 140.0, 141.8, 143.60000000000002, 145.4, 147.2, 149.0, 150.8, 152.60000000000002, 154.4, 156.2, 158.0, 159.8, 161.6, 163.4, 165.20000000000002, 167.0, 168.8, 170.6, 172.4, 174.20000000000002, 176.0, 177.8, 179.6, 181.4, 183.20000000000002, 185.0, 186.8, 188.6, 190.4, 192.20000000000002, 194.0, 195.8, 197.6, 199.4, 201.20000000000002, 203.0, 204.8, 206.6, 208.4, 210.20000000000002, 212.0]\n",
        "degree_c = int(input(\"請輸入0～100之間的攝氏溫度:\"))\n",
        "if (degree_c < 0 or degree_c > 100):\n",
        "  print(\"輸入無效\")\n",
        "else:\n",
        "  degree_f = List_f[degree_c] \n",
        "  print (\"攝氏 %d 度等於華氏 %f 度\" % (degree_c,degree_f))"
      ],
      "execution_count": 1,
      "outputs": [
        {
          "output_type": "stream",
          "text": [
            "請輸入0～100之間的攝氏溫度:69\n",
            "攝氏 69 度等於華氏 156.200000 度\n"
          ],
          "name": "stdout"
        }
      ]
    }
  ]
}
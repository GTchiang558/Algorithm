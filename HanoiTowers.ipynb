{
  "nbformat": 4,
  "nbformat_minor": 0,
  "metadata": {
    "colab": {
      "name": "HanoiTowers.ipynb",
      "provenance": [],
      "authorship_tag": "ABX9TyOgogv/rb2UBxOLnORZj8R5",
      "include_colab_link": true
    },
    "kernelspec": {
      "name": "python3",
      "display_name": "Python 3"
    }
  },
  "cells": [
    {
      "cell_type": "markdown",
      "metadata": {
        "id": "view-in-github",
        "colab_type": "text"
      },
      "source": [
        "<a href=\"https://colab.research.google.com/github/GTchiang558/Algorithm/blob/master/HanoiTowers.ipynb\" target=\"_parent\"><img src=\"https://colab.research.google.com/assets/colab-badge.svg\" alt=\"Open In Colab\"/></a>"
      ]
    },
    {
      "cell_type": "code",
      "metadata": {
        "id": "XyseSmpgHRlD",
        "outputId": "755c6c92-ab22-4c62-96bd-e57b5fc39d5b",
        "colab": {
          "base_uri": "https://localhost:8080/"
        }
      },
      "source": [
        "def hanoi(n, A, B, C):\n",
        "    if n == 1:\n",
        "        return [(A, C)]\n",
        "    else:\n",
        "        return hanoi(n-1, A, C, B) + hanoi(1, A, B, C) + hanoi(n-1, B, A, C)\n",
        "\n",
        "n = input(\"請輸入盤數：\")\n",
        "a = 1\n",
        "for move in hanoi(int(n), 'A', 'B', 'C'):\n",
        "    print(\" %c ---> %c 執行次數：\" % move + str(a))\n",
        "    a = a + 1"
      ],
      "execution_count": 6,
      "outputs": [
        {
          "output_type": "stream",
          "text": [
            "請輸入盤數：5\n",
            " A ---> C 執行次數：1\n",
            " A ---> B 執行次數：2\n",
            " C ---> B 執行次數：3\n",
            " A ---> C 執行次數：4\n",
            " B ---> A 執行次數：5\n",
            " B ---> C 執行次數：6\n",
            " A ---> C 執行次數：7\n",
            " A ---> B 執行次數：8\n",
            " C ---> B 執行次數：9\n",
            " C ---> A 執行次數：10\n",
            " B ---> A 執行次數：11\n",
            " C ---> B 執行次數：12\n",
            " A ---> C 執行次數：13\n",
            " A ---> B 執行次數：14\n",
            " C ---> B 執行次數：15\n",
            " A ---> C 執行次數：16\n",
            " B ---> A 執行次數：17\n",
            " B ---> C 執行次數：18\n",
            " A ---> C 執行次數：19\n",
            " B ---> A 執行次數：20\n",
            " C ---> B 執行次數：21\n",
            " C ---> A 執行次數：22\n",
            " B ---> A 執行次數：23\n",
            " B ---> C 執行次數：24\n",
            " A ---> C 執行次數：25\n",
            " A ---> B 執行次數：26\n",
            " C ---> B 執行次數：27\n",
            " A ---> C 執行次數：28\n",
            " B ---> A 執行次數：29\n",
            " B ---> C 執行次數：30\n",
            " A ---> C 執行次數：31\n"
          ],
          "name": "stdout"
        }
      ]
    }
  ]
}
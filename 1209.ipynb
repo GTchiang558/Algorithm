{
  "nbformat": 4,
  "nbformat_minor": 0,
  "metadata": {
    "colab": {
      "name": "1209.ipynb",
      "provenance": [],
      "authorship_tag": "ABX9TyP5TyH2xgXcNImE++TdycLr",
      "include_colab_link": true
    },
    "kernelspec": {
      "name": "python3",
      "display_name": "Python 3"
    }
  },
  "cells": [
    {
      "cell_type": "markdown",
      "metadata": {
        "id": "view-in-github",
        "colab_type": "text"
      },
      "source": [
        "<a href=\"https://colab.research.google.com/github/GTchiang558/Algorithm/blob/master/1209.ipynb\" target=\"_parent\"><img src=\"https://colab.research.google.com/assets/colab-badge.svg\" alt=\"Open In Colab\"/></a>"
      ]
    },
    {
      "cell_type": "code",
      "metadata": {
        "colab": {
          "base_uri": "https://localhost:8080/"
        },
        "id": "3cxje-66W2OU",
        "outputId": "77da1948-ef29-435e-f3a0-baf345221210"
      },
      "source": [
        "P = [0,1,5,8,9,10,17,17,20,24,30]\r\n",
        "N = int(input('鐵條總長：'))\r\n",
        "def BottomUpCutRod(p, n):\r\n",
        "    r = [0]*(n+1)\r\n",
        "    for i in range(1, n+1):\r\n",
        "        if n == 0:\r\n",
        "            return 0\r\n",
        "        q =0\r\n",
        "        for j in range(1, i+1):\r\n",
        "            q = max(q, p[j]+r[i-j])\r\n",
        "            r[i] = q\r\n",
        "    return r[n]\r\n",
        "\r\n",
        "print(BottomUpCutRod(P, N))"
      ],
      "execution_count": 43,
      "outputs": [
        {
          "output_type": "stream",
          "text": [
            "鐵條總長：10\n",
            "30\n"
          ],
          "name": "stdout"
        }
      ]
    }
  ]
}
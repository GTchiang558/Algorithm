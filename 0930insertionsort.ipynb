{
  "nbformat": 4,
  "nbformat_minor": 0,
  "metadata": {
    "colab": {
      "name": "0930insertionsort.ipynb",
      "provenance": [],
      "collapsed_sections": [],
      "include_colab_link": true
    },
    "kernelspec": {
      "name": "python3",
      "display_name": "Python 3"
    }
  },
  "cells": [
    {
      "cell_type": "markdown",
      "metadata": {
        "id": "view-in-github",
        "colab_type": "text"
      },
      "source": [
        "<a href=\"https://colab.research.google.com/github/GTchiang558/Algorithm/blob/master/0930insertionsort.ipynb\" target=\"_parent\"><img src=\"https://colab.research.google.com/assets/colab-badge.svg\" alt=\"Open In Colab\"/></a>"
      ]
    },
    {
      "cell_type": "markdown",
      "metadata": {
        "id": "j95w6SLwOC0z"
      },
      "source": [
        "Insertion sort (插入排序)"
      ]
    },
    {
      "cell_type": "code",
      "metadata": {
        "id": "BxBaYEwzNj_v",
        "outputId": "3e653c06-f708-4c70-fff4-701c3983e3a2",
        "colab": {
          "base_uri": "https://localhost:8080/",
          "height": 306
        }
      },
      "source": [
        "\n",
        "def Insertion_Sort(datas):\n",
        "    for i in range(1, len(datas)):  # \n",
        "        for j in range(i):\n",
        "            current = datas[i]\n",
        "            if current < datas[j]:\n",
        "                for k in range(i,j):\n",
        "                  print(datas)\n",
        "    return datas\n",
        "\n",
        "\n",
        "def insertionSort(arr):\n",
        "    for i in range(len(arr)):\n",
        "        preIndex = i-1\n",
        "        current = arr[i]\n",
        "        while preIndex >= 0 and arr[preIndex] > current:\n",
        "            arr[preIndex+1] = arr[preIndex]\n",
        "            preIndex-=1\n",
        "        arr[preIndex+1] = current\n",
        "        print(arr)\n",
        "    return arr\n",
        "\n",
        "if __name__ == '__main__':\n",
        "    import random\n",
        "    a = list(range(16))\n",
        "    random.shuffle(a)\n",
        "    b = a.copy()\n",
        "\n",
        "    arr = insertionSort(a)\n",
        "    print('---'*18)\n",
        "    Insertion_Sort(b)"
      ],
      "execution_count": null,
      "outputs": [
        {
          "output_type": "stream",
          "text": [
            "[4, 13, 0, 9, 10, 8, 3, 2, 15, 14, 11, 1, 6, 5, 12, 7]\n",
            "[4, 13, 0, 9, 10, 8, 3, 2, 15, 14, 11, 1, 6, 5, 12, 7]\n",
            "[0, 4, 13, 9, 10, 8, 3, 2, 15, 14, 11, 1, 6, 5, 12, 7]\n",
            "[0, 4, 9, 13, 10, 8, 3, 2, 15, 14, 11, 1, 6, 5, 12, 7]\n",
            "[0, 4, 9, 10, 13, 8, 3, 2, 15, 14, 11, 1, 6, 5, 12, 7]\n",
            "[0, 4, 8, 9, 10, 13, 3, 2, 15, 14, 11, 1, 6, 5, 12, 7]\n",
            "[0, 3, 4, 8, 9, 10, 13, 2, 15, 14, 11, 1, 6, 5, 12, 7]\n",
            "[0, 2, 3, 4, 8, 9, 10, 13, 15, 14, 11, 1, 6, 5, 12, 7]\n",
            "[0, 2, 3, 4, 8, 9, 10, 13, 15, 14, 11, 1, 6, 5, 12, 7]\n",
            "[0, 2, 3, 4, 8, 9, 10, 13, 14, 15, 11, 1, 6, 5, 12, 7]\n",
            "[0, 2, 3, 4, 8, 9, 10, 11, 13, 14, 15, 1, 6, 5, 12, 7]\n",
            "[0, 1, 2, 3, 4, 8, 9, 10, 11, 13, 14, 15, 6, 5, 12, 7]\n",
            "[0, 1, 2, 3, 4, 6, 8, 9, 10, 11, 13, 14, 15, 5, 12, 7]\n",
            "[0, 1, 2, 3, 4, 5, 6, 8, 9, 10, 11, 13, 14, 15, 12, 7]\n",
            "[0, 1, 2, 3, 4, 5, 6, 8, 9, 10, 11, 12, 13, 14, 15, 7]\n",
            "[0, 1, 2, 3, 4, 5, 6, 7, 8, 9, 10, 11, 12, 13, 14, 15]\n",
            "------------------------------------------------------\n"
          ],
          "name": "stdout"
        }
      ]
    }
  ]
}
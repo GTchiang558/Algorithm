{
  "nbformat": 4,
  "nbformat_minor": 0,
  "metadata": {
    "colab": {
      "name": "Sequential_Search.ipynb",
      "provenance": [],
      "authorship_tag": "ABX9TyMlV8PDt1HXw70ODGJxzkyO",
      "include_colab_link": true
    },
    "kernelspec": {
      "name": "python3",
      "display_name": "Python 3"
    }
  },
  "cells": [
    {
      "cell_type": "markdown",
      "metadata": {
        "id": "view-in-github",
        "colab_type": "text"
      },
      "source": [
        "<a href=\"https://colab.research.google.com/github/GTchiang558/Algorithm/blob/master/Sequential_Search.ipynb\" target=\"_parent\"><img src=\"https://colab.research.google.com/assets/colab-badge.svg\" alt=\"Open In Colab\"/></a>"
      ]
    },
    {
      "cell_type": "code",
      "metadata": {
        "id": "jXA7EPgjw9Zh",
        "outputId": "197afb14-65c3-4232-9518-267a1583ce90",
        "colab": {
          "base_uri": "https://localhost:8080/",
          "height": 69
        }
      },
      "source": [
        "data = [20,31,50,17,16,39,19,8]\n",
        "def Sequential_Search(data,key):\n",
        "  for i in data:\n",
        "    if i == key :\n",
        "      print(\"找到了\")\n",
        "      break\n",
        "  if i != key :\n",
        "    print(\"找不到數字\")\n",
        "j = int(input(print(\"要找啥：\")))\n",
        "Sequential_Search(data,j)\n"
      ],
      "execution_count": 24,
      "outputs": [
        {
          "output_type": "stream",
          "text": [
            "要找啥：\n",
            "19\n",
            "找到了\n"
          ],
          "name": "stdout"
        }
      ]
    }
  ]
}
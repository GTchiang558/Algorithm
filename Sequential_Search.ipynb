{
  "nbformat": 4,
  "nbformat_minor": 0,
  "metadata": {
    "colab": {
      "name": "Sequential_Search.ipynb",
      "provenance": [],
      "authorship_tag": "ABX9TyPEkl4JLr5BAkfZIgNkOf/3",
      "include_colab_link": true
    },
    "kernelspec": {
      "name": "python3",
      "display_name": "Python 3"
    }
  },
  "cells": [
    {
      "cell_type": "markdown",
      "metadata": {
        "id": "view-in-github",
        "colab_type": "text"
      },
      "source": [
        "<a href=\"https://colab.research.google.com/github/GTchiang558/Algorithm/blob/master/Sequential_Search.ipynb\" target=\"_parent\"><img src=\"https://colab.research.google.com/assets/colab-badge.svg\" alt=\"Open In Colab\"/></a>"
      ]
    },
    {
      "cell_type": "code",
      "metadata": {
        "id": "jXA7EPgjw9Zh",
        "outputId": "9f365e99-480d-4bb2-db54-bec64df77c19",
        "colab": {
          "base_uri": "https://localhost:8080/",
          "height": 52
        }
      },
      "source": [
        "data = [20,31,50,17,16,39,19,8]\n",
        "def Sequential_Search(data,key):\n",
        "  for i in data:\n",
        "    if i == key :\n",
        "      print(\"找到了\")\n",
        "      break\n",
        "  if i != key :\n",
        "    print(\"找不到數字\")\n",
        "j = int(input(\"要找啥：\"))\n",
        "Sequential_Search(data,j)\n"
      ],
      "execution_count": 26,
      "outputs": [
        {
          "output_type": "stream",
          "text": [
            "要找啥：15\n",
            "找不到數字\n"
          ],
          "name": "stdout"
        }
      ]
    }
  ]
}